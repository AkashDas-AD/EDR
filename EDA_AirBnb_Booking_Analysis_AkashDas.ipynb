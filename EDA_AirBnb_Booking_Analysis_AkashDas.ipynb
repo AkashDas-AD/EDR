{
  "nbformat": 4,
  "nbformat_minor": 0,
  "metadata": {
    "colab": {
      "private_outputs": true,
      "provenance": [],
      "collapsed_sections": [
        "vncDsAP0Gaoa",
        "FJNUwmbgGyua",
        "w6K7xa23Elo4",
        "yQaldy8SH6Dl",
        "PH-0ReGfmX4f",
        "mDgbUHAGgjLW",
        "O_i_v8NEhb9l",
        "HhfV-JJviCcP",
        "Y3lxredqlCYt",
        "3RnN4peoiCZX",
        "x71ZqKXriCWQ",
        "7hBIi_osiCS2",
        "JlHwYmJAmNHm",
        "35m5QtbWiB9F",
        "PoPl-ycgm1ru",
        "H0kj-8xxnORC",
        "nA9Y7ga8ng1Z",
        "PBTbrJXOngz2",
        "u3PMJOP6ngxN",
        "dauF4eBmngu3",
        "bKJF3rekwFvQ",
        "MSa1f5Uengrz",
        "GF8Ens_Soomf",
        "0wOQAZs5pc--",
        "K5QZ13OEpz2H",
        "lQ7QKXXCp7Bj",
        "448CDAPjqfQr",
        "KSlN3yHqYklG",
        "t6dVpIINYklI",
        "ijmpgYnKYklI",
        "-JiQyfWJYklI",
        "EM7whBJCYoAo",
        "fge-S5ZAYoAp",
        "85gYPyotYoAp",
        "RoGjAbkUYoAp",
        "4Of9eVA-YrdM",
        "iky9q4vBYrdO",
        "F6T5p64dYrdO",
        "y-Ehk30pYrdP",
        "bamQiAODYuh1",
        "QHF8YVU7Yuh3",
        "GwzvFGzlYuh3",
        "qYpmQ266Yuh3",
        "OH-pJp9IphqM",
        "bbFf2-_FphqN",
        "_ouA3fa0phqN",
        "Seke61FWphqN",
        "PIIx-8_IphqN",
        "t27r6nlMphqO",
        "r2jJGEOYphqO",
        "b0JNsNcRphqO",
        "BZR9WyysphqO",
        "jj7wYXLtphqO",
        "eZrbJ2SmphqO",
        "rFu4xreNphqO",
        "YJ55k-q6phqO",
        "gCFgpxoyphqP",
        "OVtJsKN_phqQ",
        "lssrdh5qphqQ",
        "U2RJ9gkRphqQ",
        "1M8mcRywphqQ",
        "tgIPom80phqQ",
        "JMzcOPDDphqR",
        "x-EpHcCOp1ci",
        "X_VqEhTip1ck",
        "8zGJKyg5p1ck",
        "PVzmfK_Ep1ck",
        "n3dbpmDWp1ck",
        "ylSl6qgtp1ck",
        "ZWILFDl5p1ck",
        "M7G43BXep1ck",
        "Ag9LCva-p1cl",
        "E6MkPsBcp1cl",
        "2cELzS2fp1cl",
        "3MPXvC8up1cl",
        "NC_X3p0fY2L0",
        "UV0SzAkaZNRQ",
        "YPEH6qLeZNRQ",
        "q29F0dvdveiT",
        "EXh0U9oCveiU",
        "22aHeOlLveiV",
        "JcMwzZxoAimU",
        "8G2x9gOozGDZ",
        "gCX9965dhzqZ",
        "gIfDvo9L0UH2"
      ],
      "include_colab_link": true
    },
    "kernelspec": {
      "name": "python3",
      "display_name": "Python 3"
    },
    "language_info": {
      "name": "python"
    }
  },
  "cells": [
    {
      "cell_type": "markdown",
      "metadata": {
        "id": "view-in-github",
        "colab_type": "text"
      },
      "source": [
        "<a href=\"https://colab.research.google.com/github/AkashDas-AD/EDR/blob/main/EDA_AirBnb_Booking_Analysis_AkashDas.ipynb\" target=\"_parent\"><img src=\"https://colab.research.google.com/assets/colab-badge.svg\" alt=\"Open In Colab\"/></a>"
      ]
    },
    {
      "cell_type": "markdown",
      "source": [
        "**Project Name - AirBnb Booking Analysis**\n"
      ],
      "metadata": {
        "id": "KFS_mou5cCpd"
      }
    },
    {
      "cell_type": "markdown",
      "source": [
        "\n",
        "\n",
        "```\n",
        "# This is formatted as code\n",
        "```\n",
        "\n",
        "##### **Project Type**    - Exploratory Data Analysis\n",
        "##### **Contribution**    - Individual\n"
      ],
      "metadata": {
        "id": "beRrZCGUAJYm"
      }
    },
    {
      "cell_type": "markdown",
      "source": [
        "# **Project Summary -**"
      ],
      "metadata": {
        "id": "FJNUwmbgGyua"
      }
    },
    {
      "cell_type": "markdown",
      "source": [
        "The Summary Of The Analysis: Understanding the factors that influence Airbnb prices in New York City, or identifying patterns of all variables, and our analysis provides useful information for travelers and hosts in the city and also provides some best insights for Airbnb business.\n",
        "\n",
        "This project involved exploring and cleaning a dataset to prepare it for analysis. The data exploration process involved identifying and understanding the characteristics of the data, such as the data types, missing values, and distributions of values. The data cleaning process involved identifying and addressing any issues or inconsistencies in the data, such as errors, missing values, or duplicate records and outliers.\n",
        "\n",
        "Through this process, we were able to identify and fix any issues with the data and ensure that it was ready for further analysis. This is an important step in any data analysis project, as it allows us to work with high-quality data and avoid any potential biases or errors that could affect the results. The clean and prepared data can now be used to answer specific research.\n",
        "\n",
        "Using data visualization to explore and understand patterns and the observations and insights we identified through this process will be useful for future analysis and decision-making related to Airbnb. And also, our analysis provides useful information for travelers and hosts.\n",
        "\n",
        "\n"
      ],
      "metadata": {
        "id": "F6v_1wHtG2nS"
      }
    },
    {
      "cell_type": "markdown",
      "source": [
        "# **GitHub Link -**"
      ],
      "metadata": {
        "id": "w6K7xa23Elo4"
      }
    },
    {
      "cell_type": "code",
      "source": [
        "https://github.com/AkashDas-AD/EDR"
      ],
      "metadata": {
        "id": "cofAjgkTbZcR"
      },
      "execution_count": null,
      "outputs": []
    },
    {
      "cell_type": "markdown",
      "source": [
        "Provide your GitHub Link here."
      ],
      "metadata": {
        "id": "h1o69JH3Eqqn"
      }
    },
    {
      "cell_type": "markdown",
      "source": [
        "# **Problem Statement**\n"
      ],
      "metadata": {
        "id": "yQaldy8SH6Dl"
      }
    },
    {
      "cell_type": "markdown",
      "source": [
        "**Write Problem Statement Here.**"
      ],
      "metadata": {
        "id": "DpeJGUA3kjGy"
      }
    },
    {
      "cell_type": "markdown",
      "source": [
        "#### **Define Your Business Objective?**"
      ],
      "metadata": {
        "id": "PH-0ReGfmX4f"
      }
    },
    {
      "cell_type": "markdown",
      "source": [
        "Airbnb hosts and the platform itself strive to optimize the hosting experience and attract more bookings. The challenge is to analyze Airbnb booking patterns, user preferences, and pricing strategies to uncover valuable insights. By conducting an in-depth Exploratory Data Analysis (EDA), we aim to understand the dynamics influencing booking trends, user behavior, and host success. The ultimate goal is to provide actionable insights for hosts to enhance their listings and for Airbnb to refine its platform features, ultimately fostering a deeper understanding of the vacation rental market.\n",
        "\n",
        "Business Objective:\n",
        "\n",
        "Maximize Airbnb Host Success:\n",
        "\n",
        "Enhance host strategies by leveraging data insights, resulting in increased bookings and revenue on the Airbnb platform."
      ],
      "metadata": {
        "id": "PhDvGCAqmjP1"
      }
    },
    {
      "cell_type": "markdown",
      "source": [
        "# **General Guidelines** : -  "
      ],
      "metadata": {
        "id": "mDgbUHAGgjLW"
      }
    },
    {
      "cell_type": "markdown",
      "source": [
        "1.   Well-structured, formatted, and commented code is required.\n",
        "2.   Exception Handling, Production Grade Code & Deployment Ready Code will be a plus. Those students will be awarded some additional credits.\n",
        "     \n",
        "     The additional credits will have advantages over other students during Star Student selection.\n",
        "       \n",
        "             [ Note: - Deployment Ready Code is defined as, the whole .ipynb notebook should be executable in one go\n",
        "                       without a single error logged. ]\n",
        "\n",
        "3.   Each and every logic should have proper comments.\n",
        "4. You may add as many number of charts you want. Make Sure for each and every chart the following format should be answered.\n",
        "        \n",
        "\n",
        "```\n",
        "# Chart visualization code\n",
        "```\n",
        "            \n",
        "\n",
        "*   Why did you pick the specific chart?\n",
        "*   What is/are the insight(s) found from the chart?\n",
        "* Will the gained insights help creating a positive business impact?\n",
        "Are there any insights that lead to negative growth? Justify with specific reason.\n",
        "\n",
        "5. You have to create at least 20 logical & meaningful charts having important insights.\n",
        "\n",
        "\n",
        "[ Hints : - Do the Vizualization in  a structured way while following \"UBM\" Rule.\n",
        "\n",
        "U - Univariate Analysis,\n",
        "\n",
        "B - Bivariate Analysis (Numerical - Categorical, Numerical - Numerical, Categorical - Categorical)\n",
        "\n",
        "M - Multivariate Analysis\n",
        " ]\n",
        "\n",
        "\n",
        "\n"
      ],
      "metadata": {
        "id": "ZrxVaUj-hHfC"
      }
    },
    {
      "cell_type": "markdown",
      "source": [
        "# ***Let's Begin !***"
      ],
      "metadata": {
        "id": "O_i_v8NEhb9l"
      }
    },
    {
      "cell_type": "markdown",
      "source": [
        "## ***1. Know Your Data***"
      ],
      "metadata": {
        "id": "HhfV-JJviCcP"
      }
    },
    {
      "cell_type": "markdown",
      "source": [
        "### Import Libraries"
      ],
      "metadata": {
        "id": "Y3lxredqlCYt"
      }
    },
    {
      "cell_type": "code",
      "source": [
        "# Import Libraries\n",
        "\n",
        "import numpy as np\n",
        "import pandas as pd\n",
        "import matplotlib.pyplot as plt     #for visualization\n",
        "%matplotlib inline\n",
        "import seaborn as sns               #for visualization\n",
        "import warnings\n",
        "warnings.filterwarnings('ignore')"
      ],
      "metadata": {
        "id": "M8Vqi-pPk-HR"
      },
      "execution_count": null,
      "outputs": []
    },
    {
      "cell_type": "markdown",
      "source": [
        "### Dataset Loading"
      ],
      "metadata": {
        "id": "3RnN4peoiCZX"
      }
    },
    {
      "cell_type": "code",
      "source": [
        "# Load Dataset\n",
        "# Uplod the file in session storage and the loaded the dataset\n",
        "\n",
        "df=pd.read_csv('Airbnb NYC 2019.csv')"
      ],
      "metadata": {
        "id": "4CkvbW_SlZ_R"
      },
      "execution_count": null,
      "outputs": []
    },
    {
      "cell_type": "markdown",
      "source": [
        "### Dataset First View"
      ],
      "metadata": {
        "id": "x71ZqKXriCWQ"
      }
    },
    {
      "cell_type": "code",
      "source": [
        "# Dataset First Look\n",
        "df.head()"
      ],
      "metadata": {
        "id": "LWNFOSvLl09H"
      },
      "execution_count": null,
      "outputs": []
    },
    {
      "cell_type": "markdown",
      "source": [
        "### Dataset Rows & Columns count"
      ],
      "metadata": {
        "id": "7hBIi_osiCS2"
      }
    },
    {
      "cell_type": "code",
      "source": [
        "# Dataset Rows & Columns count\n",
        "\n",
        "shape=df.shape\n",
        "print( \"No. of Rows and Columns in Dataset are :\", shape)"
      ],
      "metadata": {
        "id": "Kllu7SJgmLij"
      },
      "execution_count": null,
      "outputs": []
    },
    {
      "cell_type": "markdown",
      "source": [
        "### Dataset Information"
      ],
      "metadata": {
        "id": "JlHwYmJAmNHm"
      }
    },
    {
      "cell_type": "code",
      "source": [
        "# Dataset Info\n",
        "print(\"Dataset Info :\")\n",
        "df.info()"
      ],
      "metadata": {
        "id": "e9hRXRi6meOf"
      },
      "execution_count": null,
      "outputs": []
    },
    {
      "cell_type": "markdown",
      "source": [
        "#### Duplicate Values"
      ],
      "metadata": {
        "id": "35m5QtbWiB9F"
      }
    },
    {
      "cell_type": "code",
      "source": [
        "# Dataset Duplicate Value Count\n",
        "\n",
        "duplicate_data=df.duplicated().sum()\n",
        "print(\"Duplicate Values in Dataset are :\", duplicate_data)\n"
      ],
      "metadata": {
        "id": "1sLdpKYkmox0"
      },
      "execution_count": null,
      "outputs": []
    },
    {
      "cell_type": "markdown",
      "source": [
        "#### Missing Values/Null Values"
      ],
      "metadata": {
        "id": "PoPl-ycgm1ru"
      }
    },
    {
      "cell_type": "code",
      "source": [
        "# Missing Values/Null Values Count\n",
        "\n",
        "print(\"Missing Values/Null Values Count :\")\n",
        "print(df.isna().sum())"
      ],
      "metadata": {
        "id": "GgHWkxvamxVg"
      },
      "execution_count": null,
      "outputs": []
    },
    {
      "cell_type": "code",
      "source": [
        "# Visualizing the missing values\n",
        "\n",
        "columns=list(df.columns)\n",
        "null_counts = df[columns].isnull().sum()                  # Caluated total null values in each columns\n",
        "null_counts = null_counts.reset_index()                   # Convert it into data frame for plotting\n",
        "null_counts.columns = ['Column', 'Null Count']\n",
        "\n",
        "plt.figure(figsize=(10, 6))\n",
        "sns.barplot(x='Column', y='Null Count', data=null_counts)\n",
        "plt.xticks(rotation=90)\n",
        "plt.title('Null Values Count by Column')\n",
        "plt.xlabel('Columns')\n",
        "plt.ylabel('Number of Null Values')\n",
        "plt.show()"
      ],
      "metadata": {
        "id": "zcPqZC__ojvq"
      },
      "execution_count": null,
      "outputs": []
    },
    {
      "cell_type": "markdown",
      "source": [
        "### What did you know about your dataset?"
      ],
      "metadata": {
        "id": "H0kj-8xxnORC"
      }
    },
    {
      "cell_type": "markdown",
      "source": [
        "**DATASET OVERVIEW** :\n",
        "\n",
        "The dataset comprises of 48895 rows and 16 columns, each representing a unique booking. Features include host details, neighborhood information, room types, prices, availability, and reviews.\n",
        "\n",
        "**Data Types Check** :\n",
        "Evaluation of data types ensured proper handling of numeric, categorical, and datetime features.\n",
        "**Categorical variable category** - name,host_name, neighbourhood_group, neighbourhood and room_type\n",
        "**Numerical variables** - id, host_id, latitude, longitude, price, minimum_nights, number_of_reviews, last_review, reviews_per_month, host_listings_count, availability_365\n",
        "\n",
        "**Missing Values** :\n",
        "Notable missing values in the \"last_review\" and \"reviews_per_month\" column were observed\n",
        "\n",
        "**Duplicate Values** :\n",
        "There are no duplicate values in the dataset.\n"
      ],
      "metadata": {
        "id": "gfoNAAC-nUe_"
      }
    },
    {
      "cell_type": "markdown",
      "source": [
        "## ***2. Understanding Your Variables***"
      ],
      "metadata": {
        "id": "nA9Y7ga8ng1Z"
      }
    },
    {
      "cell_type": "code",
      "source": [
        "# Dataset Columns\n",
        "\n",
        "columns=list(df.columns)\n",
        "print(\"Columns present in Dataset are :\")\n",
        "columns"
      ],
      "metadata": {
        "id": "j7xfkqrt5Ag5"
      },
      "execution_count": null,
      "outputs": []
    },
    {
      "cell_type": "code",
      "source": [
        "# Dataset Describe\n",
        "df.describe()"
      ],
      "metadata": {
        "id": "q03xFOiiuZbM"
      },
      "execution_count": null,
      "outputs": []
    },
    {
      "cell_type": "markdown",
      "source": [
        "### Variables Description"
      ],
      "metadata": {
        "id": "PBTbrJXOngz2"
      }
    },
    {
      "cell_type": "markdown",
      "source": [
        "\n",
        "* **id** - Unique ID\n",
        "* **name** - Name of the listing\n",
        "* **host_id** - Unique host_id\n",
        "* **host_name** - Name of the host\n",
        "* **neighbourhood_group** - Location\n",
        "* **neighborhood** - Area\n",
        "* **latitude** - Latitude range\n",
        "* **longitude** - Longitude range\n",
        "* **room_type** - Type of listing\n",
        "* **price** - Price of listing\n",
        "* **minimum_nights** - Minimum nights to be paid for\n",
        "* **number of reviews** - Number of reviews\n",
        "* **last_review** - Content of the last review\n",
        "* **reviews_per_month**- Number of checks per month\n",
        "* **calculated_host_listing_count** -Total count\n",
        "* **availability_365** - Availability around the year"
      ],
      "metadata": {
        "id": "aJV4KIxSnxay"
      }
    },
    {
      "cell_type": "markdown",
      "source": [
        "### Check Unique Values for each variable."
      ],
      "metadata": {
        "id": "u3PMJOP6ngxN"
      }
    },
    {
      "cell_type": "code",
      "source": [
        "# Check Unique Values for each variable.\n",
        "\n",
        "for i in df.columns.tolist():\n",
        "  print(\"No. of unique values in \",i,\" = \",df[i].nunique(),)\n"
      ],
      "metadata": {
        "id": "zms12Yq5n-jE"
      },
      "execution_count": null,
      "outputs": []
    },
    {
      "cell_type": "markdown",
      "source": [
        "## 3. ***Data Wrangling***"
      ],
      "metadata": {
        "id": "dauF4eBmngu3"
      }
    },
    {
      "cell_type": "markdown",
      "source": [
        "### Data Wrangling Code"
      ],
      "metadata": {
        "id": "bKJF3rekwFvQ"
      }
    },
    {
      "cell_type": "code",
      "source": [
        "# Write your code to make your dataset analysis ready.\n",
        "null_counts       # previously calucated how much null value each column contains.\n",
        "\n",
        "df['name'].fillna('unknown',inplace=True)\n",
        "df['host_name'].fillna('no_name',inplace=True)\n",
        "df['last_review'].fillna(pd.NaT,inplace=True)\n",
        "df['reviews_per_month'].fillna(0,inplace=True)\n"
      ],
      "metadata": {
        "id": "wk-9a2fpoLcV"
      },
      "execution_count": null,
      "outputs": []
    },
    {
      "cell_type": "code",
      "source": [
        "df.isna().sum() # verify if all null values have been handled or not"
      ],
      "metadata": {
        "id": "4wQtsYpc0MBe"
      },
      "execution_count": null,
      "outputs": []
    },
    {
      "cell_type": "code",
      "source": [
        "#Removing the ouliers in the data using income column\n",
        "\n",
        "# visualizing the ouliers using boxplot\n",
        "\n",
        "sns.boxplot(x=df['price'])\n",
        "plt.title('Box Plot for Price')\n",
        "plt.show()"
      ],
      "metadata": {
        "id": "UtbVyc26kB8q"
      },
      "execution_count": null,
      "outputs": []
    },
    {
      "cell_type": "code",
      "source": [
        "#Remove outliers using IQR technique.\n",
        "\n",
        "Q1=df['price'].quantile(0.25)\n",
        "Q3=df['price'].quantile(0.75)\n",
        "\n",
        "IQR = Q3 - Q1\n",
        "lower_bound= Q1 - 1.5 * IQR\n",
        "upper_bound= Q3 + 1.5 * IQR\n",
        "\n",
        "df = df[(df['price'] > lower_bound) & (df['price'] < upper_bound)]"
      ],
      "metadata": {
        "id": "xYdKp9xsoFpq"
      },
      "execution_count": null,
      "outputs": []
    },
    {
      "cell_type": "code",
      "source": [
        "# visualizing the dataset using boxplot after removing the ouliers\n",
        "\n",
        "sns.boxplot(x=df['price'])\n",
        "plt.title('Boxplot for price after removing outliers')\n",
        "plt.show()"
      ],
      "metadata": {
        "id": "RC3xjozNo4dd"
      },
      "execution_count": null,
      "outputs": []
    },
    {
      "cell_type": "code",
      "source": [
        "#Analyszing the unique neighborhood groups, room types, and their respective counts, as well as computes average prices,\n",
        "#host listing counts, and minimum night stays for each room type and each neighborhood group.\n",
        "\n",
        "#Unique Neighbourhood Group\n",
        "unique_neighbourhood_group = df['neighbourhood_group'].value_counts()\n",
        "print(\"Unique Neighbourhood Group present in Dataset , each accompanied by its respective count :\")\n",
        "print(unique_neighbourhood_group)\n",
        "print(\"---------------------------------------------------------------------\")\n",
        "\n",
        "#Count of neighbourhood within each neighbourhood group\n",
        "unique_neighbourhood = df.groupby('neighbourhood_group')['neighbourhood'].nunique()\n",
        "print(\"Count of Neighbourhood present within each Neighbourhood Group :\")\n",
        "print(unique_neighbourhood)\n",
        "print(\"---------------------------------------------------------------------\")\n",
        "\n",
        "#Count of unique room type present\n",
        "unique_room_type = df['room_type'].value_counts()\n",
        "print(\"Unique Room Type present in Dataset,each accompanied by its respective count :\")\n",
        "print(unique_room_type)\n",
        "print(\"---------------------------------------------------------------------\")\n",
        "\n",
        "#Average price for each room type\n",
        "room_avg_price = df.groupby('room_type').describe()['price']['mean'].round(2)\n",
        "print(\"Average Price of each Room type present :\")\n",
        "print(room_avg_price)\n",
        "print(\"----------------------------------------------------------------------\")\n",
        "\n",
        "#Averaege price of each room type in each neighbourhood group\n",
        "room_avg_price = df.groupby(['neighbourhood_group','room_type']).describe()['price']['mean'].round(2)\n",
        "print(\"Average Price of each Room Type in each Neighbourhood Group :\")\n",
        "print(room_avg_price)\n",
        "print(\"---------------------------------------------------------------------\")\n",
        "\n",
        "#Average number of host listings count for each room type\n",
        "print(\"Average number of Host listings count for each room type :\")\n",
        "room_avg_host_listing_count = df.groupby('room_type').describe()['calculated_host_listings_count']['mean'].round(2)\n",
        "print(room_avg_host_listing_count)\n",
        "print(\"---------------------------------------------------------------------\")\n",
        "\n",
        "#Average Host listings count for each Room Type in each Neighbourhood Group\n",
        "avg_host_listing_count = df.groupby(['neighbourhood_group','room_type']).describe()['calculated_host_listings_count']['mean'].round(2)\n",
        "print('Average Host listings count for each Room Type in each Neighbourhood Group')\n",
        "print(avg_host_listing_count)\n",
        "print(\"---------------------------------------------------------------------\")\n",
        "\n",
        "#Average number of minimum nights for each room type\n",
        "room_avg_nights=df.groupby('room_type').describe()['minimum_nights']['mean'].astype(int)\n",
        "print(\"Average Number of Minimum Nights for each room type present :\")\n",
        "print(room_avg_nights)"
      ],
      "metadata": {
        "id": "bjzpIDiW2vyT"
      },
      "execution_count": null,
      "outputs": []
    },
    {
      "cell_type": "code",
      "source": [
        "#Analyzing the booking count for each month and for each room type.\n",
        "\n",
        "#Converting the data_type for last_review to DATETIME and extracing month form it\n",
        "df['last_review'] = pd.to_datetime(df['last_review'])\n",
        "df['month'] = df['last_review'].dt.month.astype(float)\n",
        "\n",
        "#All months Bookings count for each room type\n",
        "booking_counts_by_room_type =df.groupby(['room_type', 'month']).size().reset_index(name='booking_count')\n",
        "print(\"Count of Bookings made for each month across all room types.\")\n",
        "print(booking_counts_by_room_type)\n",
        "print('--------------------------------------------------------------')\n",
        "\n",
        "#Top 3 months with the maximum booking counts for each room type\n",
        "booking_counts_by_rtype=df.groupby(['room_type', 'month']).size()\n",
        "top_3_months_by_room_type_max = booking_counts_by_rtype.groupby('room_type', group_keys=False).nlargest(3).reset_index(name='booking_count')\n",
        "print(\"Top 3 months for each room type when the maximum number of bookings occurred :\")\n",
        "print(top_3_months_by_room_type_max)\n",
        "print('----------------------------------------------------------')\n",
        "\n",
        "#Top 3 months with the minimum booking counts for each room type\n",
        "top_3_months_by_room_type_min = booking_counts_by_rtype.groupby('room_type', group_keys=False).nsmallest(3).reset_index(name='booking_count')\n",
        "print(\"Top 3 months for each room type when the minimum number of bookings occurred :\")\n",
        "print(top_3_months_by_room_type_min)\n"
      ],
      "metadata": {
        "id": "P5jUL4JipYH5"
      },
      "execution_count": null,
      "outputs": []
    },
    {
      "cell_type": "code",
      "source": [
        "#Analyzing the booking count for each year and for each room type.\n",
        "\n",
        "#Extracing year form last_review column.\n",
        "df['year'] = df['last_review'].dt.year.astype(float).astype('Int64')\n",
        "\n",
        "#All years' Booking count for each room type\n",
        "booking_counts_by_room_type_yearly = df.groupby(['room_type', 'year']).size().reset_index(name='booking_count_yearly')\n",
        "print(\"Count of Bookings made for each year across all room types.\")\n",
        "print(booking_counts_by_room_type_yearly)\n",
        "print('--------------------------------------------------------------')\n",
        "\n",
        "#Top 3 years with the maximum booking counts for each room type\n",
        "booking_counts_by_rtype_yearly = df.groupby(['room_type', 'year']).size()\n",
        "top_3_years_by_room_type_max = booking_counts_by_rtype_yearly.groupby('room_type', group_keys=False).nlargest(3).reset_index(name='booking_count_yearly')\n",
        "print(\"Top 3 years for each room type when the maximum number of bookings occurred :\")\n",
        "print(top_3_years_by_room_type_max)\n",
        "print('----------------------------------------------------------')\n",
        "\n",
        "#Top 3 years with the minimum booking counts for each room type\n",
        "top_3_years_by_room_type_min = booking_counts_by_rtype_yearly.groupby('room_type', group_keys=False).nsmallest(3).reset_index(name='booking_count_yearly')\n",
        "print(\"Top 3 years for each room type when the minimum number of bookings occurred :\")\n",
        "print(top_3_years_by_room_type_min)\n",
        "print('-----------------------------------------------------------')"
      ],
      "metadata": {
        "id": "jedFS1JtZ0gy"
      },
      "execution_count": null,
      "outputs": []
    },
    {
      "cell_type": "code",
      "source": [
        "#Calculating the average min nights booked,price per night, income per listing and how many listing are there for short\n",
        "#and long term listing.\n",
        "\n",
        "#Assuming each review in number of reviews corresponts to atleast 1 night hence using number of reviews\n",
        "#Average nights booked per listing\n",
        "average_nights_booked = df['number_of_reviews'].mean().astype(int)\n",
        "print(f\"The average number of nights booked per listing is: {average_nights_booked}\")\n",
        "print('-------------------------------------------------------------------------')\n",
        "\n",
        "#Average price per night\n",
        "df['average_price_per_night'] = df['price']/df['minimum_nights']\n",
        "average_price_per_night =df['average_price_per_night'].mean()\n",
        "print(f\"The average price per night is: ${average_price_per_night:.2f}\")\n",
        "print('-------------------------------------------------------------------------')\n",
        "\n",
        "#Average income per listing\n",
        "df['income'] = df['price'] * df['calculated_host_listings_count']           #Calculate the income for each listing\n",
        "average_income_per_listing = df['income'].sum()/len(df['income'])           #Calculate the average income per listing\n",
        "print(f\"The average income per listing is: ${average_income_per_listing:.2f}\")\n",
        "print('-------------------------------------------------------------------------')\n",
        "\n",
        "# Analysis whether Short-Term rentals(minimum nights<=30) are more preferred or Long-Term-rentals(minimum nights > 30)\n",
        "\n",
        "# Classify listings as short-term or long-term\n",
        "df['rental_type'] = pd.cut(df['minimum_nights'], bins=[0, 30, float('inf')], labels=['Short-term', 'Long-term'])\n",
        "rental_type_counts = df['rental_type'].value_counts()\n",
        "print(\"Count of Short-term Rentals:\")\n",
        "print(rental_type_counts['Short-term'])\n",
        "print(\"Count of Long-term Rentals:\")\n",
        "print(rental_type_counts['Long-term'])\n",
        "\n",
        "\n"
      ],
      "metadata": {
        "id": "e1U6Golcc_L0"
      },
      "execution_count": null,
      "outputs": []
    },
    {
      "cell_type": "code",
      "source": [
        "# Calculate how many host have multiple listing or single listing and who are the top host having multiple listing.\n",
        "\n",
        "#Identify hosts with multiple listings (i.e , hosts with more than one listing)\n",
        "multiple_listings_hosts = df[df['calculated_host_listings_count'] > 1]\n",
        "\n",
        "# Display the count and percentage of hosts with multiple listings\n",
        "total_hosts = len(df['calculated_host_listings_count'])\n",
        "multiple_listings_count = len(multiple_listings_hosts)\n",
        "single_listings_count = total_hosts - multiple_listings_count\n",
        "\n",
        "print(f\"\\nTotal Hosts: {total_hosts}\")\n",
        "print(f\"Hosts with Multiple Listings: {multiple_listings_count} ({(multiple_listings_count / total_hosts) * 100:.1f}%)\")\n",
        "print(f\"Hosts with Single Listing: {single_listings_count} ({(single_listings_count / total_hosts) * 100:.1f}%)\")\n",
        "\n",
        "top_hosts = df.groupby(['host_name', 'room_type']).size().unstack(fill_value=0)\n",
        "top_hosts['total_listing'] = top_hosts.sum(axis=1)\n",
        "top_10_hosts = top_hosts.sort_values(by='total_listing', ascending=False).head(10)\n",
        "\n",
        "print(top_10_hosts)"
      ],
      "metadata": {
        "id": "3HwX5T4uhx_d"
      },
      "execution_count": null,
      "outputs": []
    },
    {
      "cell_type": "markdown",
      "source": [
        "### What all manipulations have you done and insights you found?"
      ],
      "metadata": {
        "id": "MSa1f5Uengrz"
      }
    },
    {
      "cell_type": "markdown",
      "source": [
        "**Data Manipulations:**\n",
        "Identified and filled all the null data for the respective columns\n",
        "(name - unknown\n",
        "host_name - no_name\n",
        "last_review - Nan\n",
        "reviews_per_month - 0).Removed the outliers in price column using IQR.\n",
        "\n",
        "**Neighbourhood  Group Analysis**:Identified the count of unique neighborhood groups and neighborhoods, as well as room type distributions. Additionally, it calculates the average price for each room type and neighborhood group combination, offering insight into pricing trends.\n",
        "\n",
        "**Room_type Booking analysis**:Analyzed the booking trends based on the month and room type.Firsly converted the last_review column to a datetime format and extracting the month and year from the data. Then, it calculates the total number of bookings for each room type in each month, providing a month-wise breakdown of bookings. Additionally, it identifies the top 3  and top 3 years with the highest booking counts for each room type. Similarly, it finds the top 3 months/top 3 years with the lowest booking counts for each room type, giving insight into off-peak times for bookings.\n",
        "\n",
        "**Rental Type Analysis**: Identified the average listing price and average income per listing and also classified listings as short-term or long-term based on minimum nights.\n",
        "\n",
        "**Host Listings Analysis**: Analyzed the distribution of listings per host and Identified hosts with multiple listing also identified the top 20 hosts with the maximum number of listings\n"
      ],
      "metadata": {
        "id": "Kc30m862lXL1"
      }
    },
    {
      "cell_type": "code",
      "source": [],
      "metadata": {
        "id": "nN4mMfS62_nq"
      },
      "execution_count": null,
      "outputs": []
    },
    {
      "cell_type": "markdown",
      "source": [
        "Answer Here."
      ],
      "metadata": {
        "id": "LbyXE7I1olp8"
      }
    },
    {
      "cell_type": "markdown",
      "source": [
        "## ***4. Data Vizualization, Storytelling & Experimenting with charts : Understand the relationships between variables***"
      ],
      "metadata": {
        "id": "GF8Ens_Soomf"
      }
    },
    {
      "cell_type": "markdown",
      "source": [
        "#### Chart 1 -Yearly Booking count"
      ],
      "metadata": {
        "id": "0wOQAZs5pc--"
      }
    },
    {
      "cell_type": "code",
      "source": [
        "# Chart - 1 visualization code\n",
        "\n",
        "yearly_booking_counts =booking_counts_by_room_type_yearly.groupby('year')['booking_count_yearly'].sum().reset_index()\n",
        "\n",
        "plt.figure(figsize=(10, 6))\n",
        "sns.lineplot(x='year', y='booking_count_yearly', data=yearly_booking_counts, marker='o')\n",
        "plt.title('Yearly Booking Counts')\n",
        "plt.xlabel('Year')\n",
        "plt.ylabel('Total Bookings')\n",
        "plt.grid(True)\n",
        "plt.show()\n"
      ],
      "metadata": {
        "id": "7v_ESjsspbW7"
      },
      "execution_count": null,
      "outputs": []
    },
    {
      "cell_type": "markdown",
      "source": [
        "##### 1. Why did you pick the specific chart?"
      ],
      "metadata": {
        "id": "K5QZ13OEpz2H"
      }
    },
    {
      "cell_type": "markdown",
      "source": [
        "\n",
        "The choosen graph is a line graph, it  is used to show trends over time by connecting data points with a line, making it easy to visualize changes and patterns."
      ],
      "metadata": {
        "id": "XESiWehPqBRc"
      }
    },
    {
      "cell_type": "markdown",
      "source": [
        "##### 2. What is/are the insight(s) found from the chart?"
      ],
      "metadata": {
        "id": "lQ7QKXXCp7Bj"
      }
    },
    {
      "cell_type": "markdown",
      "source": [
        "After 2014 number of listing has been increased exponentionally.*italicized text*"
      ],
      "metadata": {
        "id": "C_j1G7yiqdRP"
      }
    },
    {
      "cell_type": "markdown",
      "source": [
        "##### 3. Will the gained insights help creating a positive business impact?\n",
        "Are there any insights that lead to negative growth? Justify with specific reason."
      ],
      "metadata": {
        "id": "448CDAPjqfQr"
      }
    },
    {
      "cell_type": "markdown",
      "source": [
        "Lisitng of house has been increased year on year, it is apositive sign that the business in growing."
      ],
      "metadata": {
        "id": "3cspy4FjqxJW"
      }
    },
    {
      "cell_type": "markdown",
      "source": [
        "#### Chart - 2 - Distribution of Airbnb Prices"
      ],
      "metadata": {
        "id": "KSlN3yHqYklG"
      }
    },
    {
      "cell_type": "code",
      "source": [
        "# Chart - 2 visualization code\n",
        "plt.figure(figsize=(10,6))\n",
        "sns.distplot(df['price'])\n",
        "plt.xlabel('Price')\n",
        "plt.ylabel('Density')\n",
        "plt.title('Distribution of Airbnb Prices')\n",
        "plt.grid(True)\n",
        "plt.show()"
      ],
      "metadata": {
        "id": "R4YgtaqtYklH"
      },
      "execution_count": null,
      "outputs": []
    },
    {
      "cell_type": "markdown",
      "source": [
        "##### 1. Why did you pick the specific chart?"
      ],
      "metadata": {
        "id": "t6dVpIINYklI"
      }
    },
    {
      "cell_type": "markdown",
      "source": [
        "The chosen graph is a histogram, it is used to represent the distribution of numerical data by dividing it into bins or intervals. It will helps to visualize the frequency of data points within each range."
      ],
      "metadata": {
        "id": "5aaW0BYyYklI"
      }
    },
    {
      "cell_type": "markdown",
      "source": [
        "##### 2. What is/are the insight(s) found from the chart?"
      ],
      "metadata": {
        "id": "ijmpgYnKYklI"
      }
    },
    {
      "cell_type": "markdown",
      "source": [
        "* The range of prices being charged on Airbnb appears to be from 20 to 330 dollars , with the majority of listings falling in the price range of 50 to 150 dollars.\n",
        "* The distribution of prices appears to have a peak in the 50 to 150 dollars range, with a relatively lower density of listings in higher and lower price ranges.\n",
        "\n",
        "* There may be fewer listings available at prices above 250 dollars, as the density of listings drops significantly in this range.\n",
        "\n",
        "\n",
        "\n",
        "\n"
      ],
      "metadata": {
        "id": "PSx9atu2YklI"
      }
    },
    {
      "cell_type": "markdown",
      "source": [
        "##### 3. Will the gained insights help creating a positive business impact?\n",
        "Are there any insights that lead to negative growth? Justify with specific reason."
      ],
      "metadata": {
        "id": "-JiQyfWJYklI"
      }
    },
    {
      "cell_type": "markdown",
      "source": [
        "Airbnb hosts could focus on optimizing pricing within the 50 to 150 dollar range, where demand is highest. Additionally, considering the lower density of listings above 250 dollar, hosts could explore offering unique amenities or experiences to justify higher prices,discount offers for attracting premium customer."
      ],
      "metadata": {
        "id": "BcBbebzrYklV"
      }
    },
    {
      "cell_type": "markdown",
      "source": [
        "#### Chart - 3 - Preferred Neighborhoods Group"
      ],
      "metadata": {
        "id": "EM7whBJCYoAo"
      }
    },
    {
      "cell_type": "code",
      "source": [
        "# Chart - 3 visualization code\n",
        "\n",
        "plt.figure(figsize=(10, 6))\n",
        "sns.countplot(x='neighbourhood_group', data=df)\n",
        "plt.xticks(rotation=90)\n",
        "plt.xlabel('Neighborhood Group')\n",
        "plt.ylabel('Count')\n",
        "plt.title('Preferred Neighborhoods Group')\n",
        "plt.show()"
      ],
      "metadata": {
        "id": "t6GMdE67YoAp"
      },
      "execution_count": null,
      "outputs": []
    },
    {
      "cell_type": "markdown",
      "source": [
        "##### 1. Why did you pick the specific chart?"
      ],
      "metadata": {
        "id": "fge-S5ZAYoAp"
      }
    },
    {
      "cell_type": "markdown",
      "source": [
        "The chosen graph is countplot it is suitable when you want to see the frequency or distribution of categorical data,it helps in quickly comparing the number of listings in each neighborhood group."
      ],
      "metadata": {
        "id": "5dBItgRVYoAp"
      }
    },
    {
      "cell_type": "markdown",
      "source": [
        "##### 2. What is/are the insight(s) found from the chart?"
      ],
      "metadata": {
        "id": "85gYPyotYoAp"
      }
    },
    {
      "cell_type": "markdown",
      "source": [
        "Manhattan and Brooklyn are the most preferred neighborhood group.Followed by Queens,Bronx,Staten Island.\n"
      ],
      "metadata": {
        "id": "4jstXR6OYoAp"
      }
    },
    {
      "cell_type": "markdown",
      "source": [
        "##### 3. Will the gained insights help creating a positive business impact?\n",
        "Are there any insights that lead to negative growth? Justify with specific reason."
      ],
      "metadata": {
        "id": "RoGjAbkUYoAp"
      }
    },
    {
      "cell_type": "markdown",
      "source": [
        "\n",
        "\n",
        "* Positive Impact:  Manhattan and Brooklyn seem like top spots for growth and making some extra cash.\n",
        "* Negative Impact:\n",
        "On the downside, having more people leads to more competition and increased costs, such as property maintenance, marketing, and possibly higher property purchase prices.\n",
        "\n"
      ],
      "metadata": {
        "id": "zfJ8IqMcYoAp"
      }
    },
    {
      "cell_type": "markdown",
      "source": [
        "#### Chart - 4 - Preferred Room Type"
      ],
      "metadata": {
        "id": "4Of9eVA-YrdM"
      }
    },
    {
      "cell_type": "code",
      "source": [
        "# Chart - 4 visualization code\n",
        "\n",
        "plt.figure(figsize=(10, 6))\n",
        "sns.countplot(x='room_type', data=df)\n",
        "plt.xticks(rotation=90)\n",
        "plt.xlabel('Room Type')\n",
        "plt.ylabel('Count')\n",
        "plt.title('Preferred Room Type')\n",
        "\n",
        "plt.show()"
      ],
      "metadata": {
        "id": "irlUoxc8YrdO"
      },
      "execution_count": null,
      "outputs": []
    },
    {
      "cell_type": "markdown",
      "source": [
        "##### 1. Why did you pick the specific chart?"
      ],
      "metadata": {
        "id": "iky9q4vBYrdO"
      }
    },
    {
      "cell_type": "markdown",
      "source": [
        "The chosen chart is a countplot. It is suitable for comparing the frequency or distribution of categorical data, making it ideal for visualizing"
      ],
      "metadata": {
        "id": "aJRCwT6DYrdO"
      }
    },
    {
      "cell_type": "markdown",
      "source": [
        "##### 2. What is/are the insight(s) found from the chart?"
      ],
      "metadata": {
        "id": "F6T5p64dYrdO"
      }
    },
    {
      "cell_type": "markdown",
      "source": [
        " Entire home/apartment is in high demand, indicating a preference for more private and exclusive accommodations, Private rooms are also highly preferred, suggesting a balance between privacy and affordability.Shared rooms have a lower count, indicating a lower level of preference"
      ],
      "metadata": {
        "id": "Xx8WAJvtYrdO"
      }
    },
    {
      "cell_type": "markdown",
      "source": [
        "##### 3. Will the gained insights help creating a positive business impact?\n",
        "Are there any insights that lead to negative growth? Justify with specific reason."
      ],
      "metadata": {
        "id": "y-Ehk30pYrdP"
      }
    },
    {
      "cell_type": "markdown",
      "source": [
        "Knowing which room types guests prefer benefits the entire Airbnb platform. Hosts can use this knowledge to adjust their listings, creating a positive chain reaction."
      ],
      "metadata": {
        "id": "jLNxxz7MYrdP"
      }
    },
    {
      "cell_type": "markdown",
      "source": [
        "#### Chart - 5 - 'Average Price Trend Over Years'"
      ],
      "metadata": {
        "id": "bamQiAODYuh1"
      }
    },
    {
      "cell_type": "code",
      "source": [
        "# Chart - 5 visualization code\n",
        "\n",
        "average_price_by_year = df.groupby('year')['price'].mean().reset_index()\n",
        "plt.figure(figsize=(10, 6))\n",
        "sns.lineplot(x='year', y='price', data=average_price_by_year, marker='o')\n",
        "plt.title('Average Price Trend Over Years')\n",
        "plt.xlabel('Year')\n",
        "plt.ylabel('Average Price')\n",
        "plt.grid(True)\n",
        "plt.show()\n"
      ],
      "metadata": {
        "id": "TIJwrbroYuh3"
      },
      "execution_count": null,
      "outputs": []
    },
    {
      "cell_type": "markdown",
      "source": [
        "##### 1. Why did you pick the specific chart?"
      ],
      "metadata": {
        "id": "QHF8YVU7Yuh3"
      }
    },
    {
      "cell_type": "markdown",
      "source": [
        "I chose the line plot to visually represent the annual evolution of average listing prices from 2011 to 2019. This specific chart is effective in highlighting trends and patterns in pricing over the specified time period."
      ],
      "metadata": {
        "id": "dcxuIMRPYuh3"
      }
    },
    {
      "cell_type": "markdown",
      "source": [
        "##### 2. What is/are the insight(s) found from the chart?"
      ],
      "metadata": {
        "id": "GwzvFGzlYuh3"
      }
    },
    {
      "cell_type": "markdown",
      "source": [
        "The chart illustrates a general decline in the average price of listings from 2011 to 2019, expentional year 2013\n",
        "It implies that the business may have adopted a pricing strategy aimed at maintaining competitiveness or attracting a broader customer base."
      ],
      "metadata": {
        "id": "uyqkiB8YYuh3"
      }
    },
    {
      "cell_type": "markdown",
      "source": [
        "##### 3. Will the gained insights help creating a positive business impact?\n",
        "Are there any insights that lead to negative growth? Justify with specific reason."
      ],
      "metadata": {
        "id": "qYpmQ266Yuh3"
      }
    },
    {
      "cell_type": "markdown",
      "source": [
        "The drop in prices can help the business adjust its pricing strategies to match market trends and what customers expect."
      ],
      "metadata": {
        "id": "_WtzZ_hCYuh4"
      }
    },
    {
      "cell_type": "markdown",
      "source": [
        "#### Chart - 6 - Average Airbnb Price Trend Over Years by Room Type"
      ],
      "metadata": {
        "id": "OH-pJp9IphqM"
      }
    },
    {
      "cell_type": "code",
      "source": [
        "# Chart - 6 visualization code\n",
        "\n",
        "average_price_by_year_room_type = df.groupby(['year', 'room_type'])['price'].mean().reset_index()\n",
        "\n",
        "# Plotting the data with Seaborn lineplot\n",
        "plt.figure(figsize=(10, 6))\n",
        "sns.lineplot(x='year', y='price', hue='room_type', data=average_price_by_year_room_type, marker='o')\n",
        "plt.title('Average Airbnb Price Trend Over Years by Room Type')\n",
        "plt.xlabel('Year')\n",
        "plt.ylabel('Average Price')\n",
        "plt.grid(True)\n",
        "plt.legend(title='Room Type')\n",
        "plt.show()"
      ],
      "metadata": {
        "id": "kuRf4wtuphqN"
      },
      "execution_count": null,
      "outputs": []
    },
    {
      "cell_type": "markdown",
      "source": [
        "##### 1. Why did you pick the specific chart?"
      ],
      "metadata": {
        "id": "bbFf2-_FphqN"
      }
    },
    {
      "cell_type": "markdown",
      "source": [
        "The choosen graph is a line graph, it is used to show trends over time by connecting data points with a line, making it easy to visualize changes and patterns."
      ],
      "metadata": {
        "id": "loh7H2nzphqN"
      }
    },
    {
      "cell_type": "markdown",
      "source": [
        "##### 2. What is/are the insight(s) found from the chart?"
      ],
      "metadata": {
        "id": "_ouA3fa0phqN"
      }
    },
    {
      "cell_type": "markdown",
      "source": [
        "**Entire Home/Apartment:**\n",
        "\n",
        "Prices for entire homes/apartments exhibit fluctuations, with a significant spike in 2013 and slight variations in subsequent years.This suggests that potential external factors are influencing prices, and it may be beneficial to investigate the reasons behind the 2013 spike.\n",
        "\n",
        "**Private Room:**\n",
        "\n",
        "Private room prices got peaked in 2011 and 2013, followed by a consistent decrease over the years. This drop in prices might be because people's preferences changed, or more competition came in. Another possibility is that lowering prices is a strategy to get more customers, as guests often prefer lower-priced listings.\n",
        "\n",
        "**Shared Room:**\n",
        "\n",
        "Shared room prices started in 2014 and have generally decreased since then. This could be because of changes in how the market works or because more people prefer private spaces over shared ones."
      ],
      "metadata": {
        "id": "VECbqPI7phqN"
      }
    },
    {
      "cell_type": "markdown",
      "source": [
        "##### 3. Will the gained insights help creating a positive business impact?\n",
        "Are there any insights that lead to negative growth? Justify with specific reason."
      ],
      "metadata": {
        "id": "Seke61FWphqN"
      }
    },
    {
      "cell_type": "markdown",
      "source": [
        "Yes , Understanding the fluctuations in prices for each room type enables businesses to make strategic adjustments, potentially attracting more customers and making a positive business impact.\n",
        "Adapting pricing strategies based on customer demand trends can positively impact customer satisfaction."
      ],
      "metadata": {
        "id": "DW4_bGpfphqN"
      }
    },
    {
      "cell_type": "markdown",
      "source": [
        "#### Chart - 7 - Average price in different neighbourhood_group"
      ],
      "metadata": {
        "id": "PIIx-8_IphqN"
      }
    },
    {
      "cell_type": "code",
      "source": [
        "# Chart - 7 visualization code\n",
        "\n",
        "plt.figure(figsize=(8, 6))\n",
        "sns.barplot(x='neighbourhood_group', y='price', data=df)\n",
        "plt.xlabel('Neighbourhood Group')\n",
        "plt.ylabel('Average Price')\n",
        "plt.title('Average price in different neighbourhood_group')\n",
        "plt.grid(True)\n",
        "plt.show()\n"
      ],
      "metadata": {
        "id": "lqAIGUfyphqO"
      },
      "execution_count": null,
      "outputs": []
    },
    {
      "cell_type": "markdown",
      "source": [
        "##### 1. Why did you pick the specific chart?"
      ],
      "metadata": {
        "id": "t27r6nlMphqO"
      }
    },
    {
      "cell_type": "markdown",
      "source": [
        "The chosen graph is countplot it is suitable when you want to see the frequency or distribution of categorical data,it helps in quickly comparing the prices of neighborhood group"
      ],
      "metadata": {
        "id": "iv6ro40sphqO"
      }
    },
    {
      "cell_type": "markdown",
      "source": [
        "##### 2. What is/are the insight(s) found from the chart?"
      ],
      "metadata": {
        "id": "r2jJGEOYphqO"
      }
    },
    {
      "cell_type": "markdown",
      "source": [
        "The chart shows that Manhattan has the most expensive prices, and Brooklyn is next, followed by Queens, Staten Island, and the Bronx. Even though Manhattan keeps prices high, it attracts a lot of hosts and guests."
      ],
      "metadata": {
        "id": "Po6ZPi4hphqO"
      }
    },
    {
      "cell_type": "markdown",
      "source": [
        "##### 3. Will the gained insights help creating a positive business impact?\n",
        "Are there any insights that lead to negative growth? Justify with specific reason."
      ],
      "metadata": {
        "id": "b0JNsNcRphqO"
      }
    },
    {
      "cell_type": "markdown",
      "source": [
        "Yes, the insights can positively impact business decisions. Hosts can use this information to set competitive and strategic prices for their listings based on the neighborhood. Understanding the pricing dynamics can attract guests looking for specific locations and help optimize revenue."
      ],
      "metadata": {
        "id": "xvSq8iUTphqO"
      }
    },
    {
      "cell_type": "markdown",
      "source": [
        "#### Chart - 8 - Listings by Top Neighborhoods in NYC"
      ],
      "metadata": {
        "id": "BZR9WyysphqO"
      }
    },
    {
      "cell_type": "code",
      "source": [
        "# Chart - 8 visualization code\n",
        "\n",
        "# Get the top 10 neighborhoods\n",
        "top_10_neighbourhoods = df['neighbourhood'].value_counts().nlargest(10).reset_index()\n",
        "top_10_neighbourhoods.columns = ['neighbourhood', 'listing_count']\n",
        "plt.figure(figsize=(10, 6))\n",
        "sns.barplot(x='neighbourhood', y='listing_count', data=top_10_neighbourhoods)\n",
        "plt.xlabel('Neighbourhood', fontsize=14)\n",
        "plt.ylabel('Total Listing Counts', fontsize=14)\n",
        "plt.title('Listings by Top Neighborhoods in NYC', fontsize=15)\n",
        "plt.xticks(rotation=45)\n",
        "plt.show()\n"
      ],
      "metadata": {
        "id": "TdPTWpAVphqO"
      },
      "execution_count": null,
      "outputs": []
    },
    {
      "cell_type": "markdown",
      "source": [
        "##### 1. Why did you pick the specific chart?"
      ],
      "metadata": {
        "id": "jj7wYXLtphqO"
      }
    },
    {
      "cell_type": "markdown",
      "source": [
        "The chosen graph is countplot it is suitable when you want to see the frequency or distribution of categorical data,it helps in quickly comparing the prices of neighborhood group"
      ],
      "metadata": {
        "id": "Ob8u6rCTphqO"
      }
    },
    {
      "cell_type": "markdown",
      "source": [
        "##### 2. What is/are the insight(s) found from the chart?"
      ],
      "metadata": {
        "id": "eZrbJ2SmphqO"
      }
    },
    {
      "cell_type": "markdown",
      "source": [
        "The top neighborhoods in New York City in terms of listing counts are Williamsburg, Bedford-Stuyvesant, Harlem, Bushwick, and the Upper West Side."
      ],
      "metadata": {
        "id": "mZtgC_hjphqO"
      }
    },
    {
      "cell_type": "markdown",
      "source": [
        "##### 3. Will the gained insights help creating a positive business impact?\n",
        "Are there any insights that lead to negative growth? Justify with specific reason."
      ],
      "metadata": {
        "id": "rFu4xreNphqO"
      }
    },
    {
      "cell_type": "markdown",
      "source": [
        "Yes , Hosts can identify the most popular neighborhoods and adjust their pricing or marketing strategies accordingly.\n",
        "Businesses can focus marketing efforts or partnerships in these high-demand neighborhoods to attract more customers."
      ],
      "metadata": {
        "id": "ey_0qi68phqO"
      }
    },
    {
      "cell_type": "markdown",
      "source": [
        "#### Chart - 9 - Preferred Room Types in Each Neighbourhood Group'"
      ],
      "metadata": {
        "id": "YJ55k-q6phqO"
      }
    },
    {
      "cell_type": "code",
      "source": [
        "# Chart - 9 visualization code\n",
        "\n",
        "preferred_room_types = df.groupby(['neighbourhood_group', 'room_type']).size().reset_index(name='count')\n",
        "preferred_room_types_sorted = preferred_room_types.sort_values(by='count', ascending=False)\n",
        "\n",
        "plt.figure(figsize=(10, 6))\n",
        "sns.barplot(x='count', y='neighbourhood_group', hue='room_type', data=preferred_room_types_sorted)\n",
        "plt.xlabel('Count of Listings')\n",
        "plt.ylabel('Neighbourhood Group')\n",
        "plt.title('Preferred Room Types in Each Neighbourhood Group')\n",
        "plt.legend(title='Room Type', title_fontsize='12')\n",
        "plt.grid(True)\n",
        "plt.show()\n"
      ],
      "metadata": {
        "id": "B2aS4O1ophqO"
      },
      "execution_count": null,
      "outputs": []
    },
    {
      "cell_type": "markdown",
      "source": [
        "##### 1. Why did you pick the specific chart?"
      ],
      "metadata": {
        "id": "gCFgpxoyphqP"
      }
    },
    {
      "cell_type": "markdown",
      "source": [
        "The chosen graph is countplot it is suitable when you want to see the frequency or distribution of categorical data,it helps in quickly comparing the values."
      ],
      "metadata": {
        "id": "TVxDimi2phqP"
      }
    },
    {
      "cell_type": "markdown",
      "source": [
        "##### 2. What is/are the insight(s) found from the chart?"
      ],
      "metadata": {
        "id": "OVtJsKN_phqQ"
      }
    },
    {
      "cell_type": "markdown",
      "source": [
        "**Manhattan**: Entire homes are the most preferred, followed by private rooms and shared rooms.\n",
        "\n",
        "**Brooklyn**: Private rooms are the most preferred, followed by entire homes and shared rooms.\n",
        "\n",
        "**Queens**: Private rooms are the most preferred, followed by entire homes and shared rooms.\n",
        "\n",
        "**Bronx**: Private rooms are the most preferred, followed by entire homes and shared rooms.\n",
        "\n",
        "**Staten Island**: Private rooms are the most preferred, followed by entire homes."
      ],
      "metadata": {
        "id": "ngGi97qjphqQ"
      }
    },
    {
      "cell_type": "markdown",
      "source": [
        "##### 3. Will the gained insights help creating a positive business impact?\n",
        "Are there any insights that lead to negative growth? Justify with specific reason."
      ],
      "metadata": {
        "id": "lssrdh5qphqQ"
      }
    },
    {
      "cell_type": "markdown",
      "source": [
        "Yes , Hosts can tailor their listings based on the predominant preferences in each neighborhood, potentially attracting more guests.\n",
        "Understanding room type preferences allows hosts to optimize their offerings and cater to the most popular choices in a given area."
      ],
      "metadata": {
        "id": "tBpY5ekJphqQ"
      }
    },
    {
      "cell_type": "markdown",
      "source": [
        "#### Chart - 10 - 'Top 10 Hosts Based on Number of Listings in NYC'"
      ],
      "metadata": {
        "id": "U2RJ9gkRphqQ"
      }
    },
    {
      "cell_type": "code",
      "source": [
        "# Chart - 10 visualization code\n",
        "\n",
        "top_hosts = df['host_name'].value_counts().nlargest(10).reset_index()\n",
        "top_hosts.columns = ['host_name', 'listing_count']\n",
        "plt.figure(figsize=(10, 6))\n",
        "sns.barplot(x='host_name', y='listing_count', data=top_hosts)\n",
        "plt.xlabel('Top 10 Hosts', fontsize=14)\n",
        "plt.ylabel('Total NYC Listings', fontsize=14)\n",
        "plt.title('Top 10 Hosts Based on Number of Listings in NYC', fontsize=15)\n",
        "plt.xticks(rotation=45)\n",
        "plt.tight_layout()\n",
        "plt.show()\n",
        "\n"
      ],
      "metadata": {
        "id": "GM7a4YP4phqQ"
      },
      "execution_count": null,
      "outputs": []
    },
    {
      "cell_type": "markdown",
      "source": [
        "##### 1. Why did you pick the specific chart?"
      ],
      "metadata": {
        "id": "1M8mcRywphqQ"
      }
    },
    {
      "cell_type": "markdown",
      "source": [
        "The chosen graph is countplot it is suitable when you want to see the frequency or distribution of categorical data,it helps in quickly comparing the values."
      ],
      "metadata": {
        "id": "8agQvks0phqQ"
      }
    },
    {
      "cell_type": "markdown",
      "source": [
        "##### 2. What is/are the insight(s) found from the chart?"
      ],
      "metadata": {
        "id": "tgIPom80phqQ"
      }
    },
    {
      "cell_type": "markdown",
      "source": [
        "The top three hosts in terms of total listings are Michael, David, and John, who have 383, 368, and 276 listings, respectively.\n",
        "\n",
        "There is a relatively large gap between the top two hosts and the rest of the hosts. For example, john has 276 listings, which is significantly fewer than Michael's 383 listings.\n",
        "\n",
        "In this top10 list Mike has 184 listings, which is significantly fewer than Michael's 383 listings. This could indicate that there is a lot of variation in the success of different hosts on Airbnb."
      ],
      "metadata": {
        "id": "Qp13pnNzphqQ"
      }
    },
    {
      "cell_type": "markdown",
      "source": [
        "##### 3. Will the gained insights help creating a positive business impact?\n",
        "Are there any insights that lead to negative growth? Justify with specific reason."
      ],
      "metadata": {
        "id": "JMzcOPDDphqR"
      }
    },
    {
      "cell_type": "markdown",
      "source": [
        "Answer Here"
      ],
      "metadata": {
        "id": "R4Ka1PC2phqR"
      }
    },
    {
      "cell_type": "markdown",
      "source": [
        "#### Chart - 11 - Average Price by Room Type in Each Neighbourhood Group"
      ],
      "metadata": {
        "id": "x-EpHcCOp1ci"
      }
    },
    {
      "cell_type": "code",
      "source": [
        "# Chart - 11 visualization code\n",
        "\n",
        "\n",
        "plt.figure(figsize=(12, 6))\n",
        "sns.barplot(x='neighbourhood_group', y='price', hue='room_type', data=df, palette='Set2')\n",
        "plt.title('Average Price by Room Type in Each Neighbourhood Group', fontsize=16)\n",
        "plt.xlabel('Neighbourhood Group', fontsize=14)\n",
        "plt.ylabel('Average Price', fontsize=14)\n",
        "plt.legend(title='Room Type')\n",
        "plt.xticks(rotation=45)  # Rotate x-axis labels for better readability\n",
        "plt.grid(True)\n",
        "plt.tight_layout()\n",
        "\n",
        "plt.show()"
      ],
      "metadata": {
        "id": "mAQTIvtqp1cj"
      },
      "execution_count": null,
      "outputs": []
    },
    {
      "cell_type": "markdown",
      "source": [
        "##### 1. Why did you pick the specific chart?"
      ],
      "metadata": {
        "id": "X_VqEhTip1ck"
      }
    },
    {
      "cell_type": "markdown",
      "source": [
        "The chosen graph is countplot it is suitable when you want to see the frequency or distribution of categorical data,it helps in quickly comparing the values."
      ],
      "metadata": {
        "id": "-vsMzt_np1ck"
      }
    },
    {
      "cell_type": "markdown",
      "source": [
        "##### 2. What is/are the insight(s) found from the chart?"
      ],
      "metadata": {
        "id": "8zGJKyg5p1ck"
      }
    },
    {
      "cell_type": "markdown",
      "source": [
        "The chart shows that Manhattan has the highest prices across all room types, while the Bronx and Staten Island have the lowest."
      ],
      "metadata": {
        "id": "ZYdMsrqVp1ck"
      }
    },
    {
      "cell_type": "markdown",
      "source": [
        "##### 3. Will the gained insights help creating a positive business impact?\n",
        "Are there any insights that lead to negative growth? Justify with specific reason."
      ],
      "metadata": {
        "id": "PVzmfK_Ep1ck"
      }
    },
    {
      "cell_type": "markdown",
      "source": [
        "These insights can guide pricing strategies and help target customers based on neighborhood affordability, creating a positive business impact."
      ],
      "metadata": {
        "id": "druuKYZpp1ck"
      }
    },
    {
      "cell_type": "markdown",
      "source": [
        "#### Chart- 12 - Monthly Booking Counts by Room Type\n",
        "\n",
        "\n",
        "\n"
      ],
      "metadata": {
        "id": "bAmSmvBxQ9VZ"
      }
    },
    {
      "cell_type": "code",
      "source": [
        "\n",
        "# booking_counts_by_room_type - calculated eralier\n",
        "\n",
        "plt.figure(figsize=(12, 6))\n",
        "sns.lineplot(data=booking_counts_by_room_type, x='month', y='booking_count', hue='room_type', marker='o')\n",
        "\n",
        "# Customize the plot\n",
        "plt.title('Monthly Booking Counts by Room Type')\n",
        "plt.xlabel('Month')\n",
        "plt.ylabel('Booking Count')\n",
        "plt.xticks(range(1, 13))\n",
        "plt.grid(True)\n",
        "plt.legend(title='Room Type')\n",
        "plt.show()\n"
      ],
      "metadata": {
        "id": "EUfxeq9-p1cl"
      },
      "execution_count": null,
      "outputs": []
    },
    {
      "cell_type": "markdown",
      "source": [
        "##### 1. Why did you pick the specific chart?"
      ],
      "metadata": {
        "id": "E6MkPsBcp1cl"
      }
    },
    {
      "cell_type": "markdown",
      "source": [
        "The choosen graph is a line graph, it is used to show trends over time by connecting data points with a line, making it easy to visualize changes and patterns."
      ],
      "metadata": {
        "id": "V22bRsFWp1cl"
      }
    },
    {
      "cell_type": "markdown",
      "source": [
        "##### 2. What is/are the insight(s) found from the chart?"
      ],
      "metadata": {
        "id": "2cELzS2fp1cl"
      }
    },
    {
      "cell_type": "markdown",
      "source": [
        "\n",
        "Booking for aparment and private room increased in the month of June, also shared aparment booking increased in June but the listings are significantly lower.\n",
        "\n"
      ],
      "metadata": {
        "id": "ozQPc2_Ip1cl"
      }
    },
    {
      "cell_type": "markdown",
      "source": [
        "##### 3. Will the gained insights help creating a positive business impact?\n",
        "Are there any insights that lead to negative growth? Justify with specific reason."
      ],
      "metadata": {
        "id": "3MPXvC8up1cl"
      }
    },
    {
      "cell_type": "markdown",
      "source": [
        "Increase the rates during the June season will help in increase in revenue."
      ],
      "metadata": {
        "id": "GL8l1tdLp1cl"
      }
    },
    {
      "cell_type": "markdown",
      "source": [
        "\n",
        "#### Chart - 13 - Average Minimum nights by Room Type"
      ],
      "metadata": {
        "id": "n3dbpmDWp1ck"
      }
    },
    {
      "cell_type": "code",
      "source": [
        "# Chart - 13 visualization code\n",
        "plt.figure(figsize=(10, 6))\n",
        "sns.barplot(x='room_type', y='minimum_nights', data=df)\n",
        "plt.xlabel('Room Type')\n",
        "plt.ylabel('Minimum Nights')\n",
        "plt.title('Average Minimum nights by Room Type')\n",
        "plt.show()\n",
        "\n",
        "\n"
      ],
      "metadata": {
        "id": "bwevp1tKp1ck"
      },
      "execution_count": null,
      "outputs": []
    },
    {
      "cell_type": "markdown",
      "source": [
        "##### 1. Why did you pick the specific chart?"
      ],
      "metadata": {
        "id": "ylSl6qgtp1ck"
      }
    },
    {
      "cell_type": "markdown",
      "source": [],
      "metadata": {
        "id": "cVPkGfpAl3u9"
      }
    },
    {
      "cell_type": "markdown",
      "source": [
        "The chosen graph is countplot it is suitable when you want to see the frequency or distribution of categorical data,it helps in quickly comparing the values."
      ],
      "metadata": {
        "id": "m2xqNkiQp1ck"
      }
    },
    {
      "cell_type": "markdown",
      "source": [
        "##### 2. What is/are the insight(s) found from the chart?"
      ],
      "metadata": {
        "id": "ZWILFDl5p1ck"
      }
    },
    {
      "cell_type": "markdown",
      "source": [
        "Minimum number of night for entire room/apartment type is high i.e 9, then it is follwed by shared room with 7 nights and private room for 5 nights."
      ],
      "metadata": {
        "id": "x-lUsV2mp1ck"
      }
    },
    {
      "cell_type": "markdown",
      "source": [
        "#### Chart 14 - Visualze longitude and latitude of the listings in the Airbnb NYC dataset with room_types and avg price"
      ],
      "metadata": {
        "id": "ParvIwm4lNcx"
      }
    },
    {
      "cell_type": "code",
      "source": [
        "# create a scatter plot that displays the longitude and latitude of the listings in the Airbnb NYC dataset with room_types.\n",
        "\n",
        "sns.set(rc={\"figure.figsize\": (10, 8)})\n",
        "\n",
        "ax = sns.scatterplot(x=df.longitude, y=df.latitude, hue=df.room_type, palette='muted')\n",
        "\n",
        "# set the title of the plot\n",
        "ax.set_title('Distribution of type of rooms across NYC', fontsize='14')\n",
        "\n",
        "#Price variations in NYC Neighbourhood groups using scatter plot\n",
        "lat_long = df.plot(kind='scatter', x='longitude', y='latitude', label='price_variations', c='price',\n",
        "                  cmap=plt.get_cmap('jet'), colorbar=True, alpha=0.4, figsize=(10, 8))\n",
        "lat_long.legend()\n"
      ],
      "metadata": {
        "id": "FpduMKxnjT_P"
      },
      "execution_count": null,
      "outputs": []
    },
    {
      "cell_type": "markdown",
      "source": [
        "The range of prices for accommodations in Manhattan is particularly high, indicating that it is the most expensive place to stay in NYC due to its various attractive amenities, as shown in the attached image.\n",
        "\n",
        "they are likely to attract a lot of tourists or visitors because of more valuable things to visit so price is higher than other neighbourhood groups.\n",
        "\n",
        "Travelers are likely to spent more days in this area because of popular amenities, high concentration of tourist attractions and public transports."
      ],
      "metadata": {
        "id": "Kqd20Mr1ncXj"
      }
    },
    {
      "cell_type": "markdown",
      "source": [
        "\n",
        "\n",
        "\n",
        "#### Chart - 15 - Correlation Heatmap"
      ],
      "metadata": {
        "id": "NC_X3p0fY2L0"
      }
    },
    {
      "cell_type": "code",
      "source": [
        "# Correlation Heatmap visualization code\n",
        "\n",
        "numeric_df = df.select_dtypes(include=['int64', 'float64'])\n",
        "heatmap_data = numeric_df.corr()\n",
        "\n",
        "plt.figure(figsize=(10, 6))\n",
        "sns.heatmap(heatmap_data, annot=True, cmap=\"coolwarm\", fmt=\".2f\", linewidths=.5)\n",
        "plt.title(\"Airbnb Dataset Heatmap\")\n",
        "plt.show()"
      ],
      "metadata": {
        "id": "xyC9zolEZNRQ"
      },
      "execution_count": null,
      "outputs": []
    },
    {
      "cell_type": "markdown",
      "source": [
        "##### 1. Why did you pick the specific chart?"
      ],
      "metadata": {
        "id": "UV0SzAkaZNRQ"
      }
    },
    {
      "cell_type": "markdown",
      "source": [
        "Corelation Heatmap is a graphical representation between multiple variables it uses colors to indicate the strength and direction of the relationships, with darker colors typically representing stronger correlations. This visualization helps to quickly identify patterns, trends, and potential relationships among variables."
      ],
      "metadata": {
        "id": "DVPuT8LYZNRQ"
      }
    },
    {
      "cell_type": "markdown",
      "source": [
        "##### 2. What is/are the insight(s) found from the chart?"
      ],
      "metadata": {
        "id": "YPEH6qLeZNRQ"
      }
    },
    {
      "cell_type": "markdown",
      "source": [
        "There is a moderate positive correlation (0.58) between the host_id and id columns, which suggests that hosts with more listings are more likely to have unique host IDs.\n",
        "\n",
        "There is a weak positive correlation (0.17) between the price column and the calculated_host_listings_count column, which suggests that hosts with more listings tend to charge higher prices for their listings.\n",
        "\n",
        "There is a moderate positive correlation (0.23) between the calculated_host_listings_count column and the availability_365 column, which suggests that hosts with more listings tend to have more days of availability in the next 365 days.\n",
        "\n",
        "There is a strong positive correlation (0.59) between the number_of_reviews column and the reviews_per_month column, which suggests that listings with more total reviews tend to have more reviews per month."
      ],
      "metadata": {
        "id": "bfSqtnDqZNRR"
      }
    },
    {
      "cell_type": "markdown",
      "source": [
        "#### Chart - 16 - Pair Plot"
      ],
      "metadata": {
        "id": "q29F0dvdveiT"
      }
    },
    {
      "cell_type": "code",
      "source": [
        "# Pair Plot visualization code\n",
        "sns.pairplot(df)\n",
        "\n",
        "# show the plot\n",
        "plt.show()"
      ],
      "metadata": {
        "id": "o58-TEIhveiU"
      },
      "execution_count": null,
      "outputs": []
    },
    {
      "cell_type": "markdown",
      "source": [
        "##### 1. Why did you pick the specific chart?"
      ],
      "metadata": {
        "id": "EXh0U9oCveiU"
      }
    },
    {
      "cell_type": "markdown",
      "source": [
        "A pair plot consists of multiple scatterplots arranged in a grid, with each scatterplot showing the relationship between two variables\n",
        "It can be used to visualize relationships between multiple variables and to identify patterns in the data."
      ],
      "metadata": {
        "id": "eMmPjTByveiU"
      }
    },
    {
      "cell_type": "markdown",
      "source": [
        "## **5. Solution to Business Objective**"
      ],
      "metadata": {
        "id": "JcMwzZxoAimU"
      }
    },
    {
      "cell_type": "markdown",
      "source": [
        "#### What do you suggest the client to achieve Business Objective ?\n",
        "Explain Briefly."
      ],
      "metadata": {
        "id": "8G2x9gOozGDZ"
      }
    },
    {
      "cell_type": "markdown",
      "source": [
        "Hosts should strategically position their properties in Manhattan and Brooklyn to increase bookings. Choosing popular neighborhoods within these areas can enhance visibility.\n",
        "\n",
        "Focusing on entire home or private room listings is beneficial, as guests tend to prefer these options over shared accommodations.\n",
        "\n",
        "Although guests generally prefer lower-priced listings, it is essential to understand seasonal trends and customer behavior. Adjust your pricing according to the season: lower prices during off- season months and higher prices during festive season. Guests typically prefer longer stays in entire homes, so set your minimum night requirements accordingly.\n",
        "\n",
        "In competitive neighborhoods like Manhattan and Brooklyn, hosts need to implement effective strategies to differentiate themselves. Encouraging guests to provide feedback and reviews can improve visibility and attract more bookings, ultimately maximizing"
      ],
      "metadata": {
        "id": "pASKb0qOza21"
      }
    },
    {
      "cell_type": "markdown",
      "source": [
        "# **Conclusion**"
      ],
      "metadata": {
        "id": "gCX9965dhzqZ"
      }
    },
    {
      "cell_type": "markdown",
      "source": [
        "\n",
        "Despite being the most expensive, Manhattan witnesses the highest number of bookings, closely followed by Brooklyn, indicating the significance of these locations in guest preferences.\n",
        "\n",
        "The noticeable spike in 2013 prompts an investigation to uncover the reasons behind this anomaly, providing insights into external factors that may have influenced pricing during that period. Understanding the dynamics behind the price spike can offer valuable information for making informed decisions in future pricing strategies.\n",
        "\n",
        "Over the years from 2011 to 2019, there is a general decrease in average prices, prompting the need for hosts to understand season trends, customer preferences, and the importance of providing excellent services that justify prices. This strategic approach not only enhances guest satisfaction but also contributes to increased revenue.\n",
        "\n",
        "Single-listing hosts dominate the platform, particularly in Manhattan and Brooklyn, highlighting the competitive landscape for individual hosts.\n",
        "\n",
        "Beyond the popularity of specific neighborhoods, the conclusion underscores the importance of understanding seasonality, providing offers, and ensuring excellent services to stand out in the competitive market.\n",
        "\n",
        "Guests consistently show a preference for lower-priced listings, with a gradual increase in the volume of guests in these listings from 2011 to 2019, emphasizing the strategic importance of pricing for hosts."
      ],
      "metadata": {
        "id": "Fjb1IsQkh3yE"
      }
    },
    {
      "cell_type": "markdown",
      "source": [
        "### ***Hurrah! You have successfully completed your EDA Capstone Project !!!***"
      ],
      "metadata": {
        "id": "gIfDvo9L0UH2"
      }
    }
  ]
}